{
 "metadata": {
  "name": "",
  "signature": "sha256:e86d6bb58f5158e0bdd915485f87ce9dec3bb267fe708d8159c0f4c4b218217a"
 },
 "nbformat": 3,
 "nbformat_minor": 0,
 "worksheets": [
  {
   "cells": [
    {
     "cell_type": "code",
     "collapsed": false,
     "input": [
      "from pandas import *\n",
      "import os\n",
      "from matplotlib.backends.backend_pdf import PdfPages\n",
      "import matplotlib.pyplot as plt\n",
      "\n",
      "test_files = []\n",
      "files = [f for f in os.listdir('.') if os.path.isfile(f)]\n",
      "\n",
      "for f in files:\n",
      "    if f.endswith('.data'):\n",
      "        test_files.append(f)\n",
      "\n",
      "with PdfPages('Break_lineplot.pdf') as pdf:\n",
      "    dfs = []        \n",
      "    for f in test_files:\n",
      "        df = read_csv(f, delim_whitespace=True)\n",
      "        df = df.drop('id', axis=1)\n",
      "        df = df.set_index('Degrees')\n",
      "        df.columns = ['Motor ' + str(test_files.index(f) + 1)]\n",
      "        dfs.append(df)\n",
      "\n",
      "    result = concat(dfs, axis=1)\n",
      "    ax = result.plot()\n",
      "    ax.set_ylabel(\"Count\")\n",
      "    \n",
      "    plt.tight_layout()\n",
      "    pdf.savefig()\n",
      "    plt.close()\n",
      "\n",
      "\n",
      "#df = read_csv(test_files[0], delim_whitespace=True)\n",
      "#df = df.drop(\"id\", axis = 1)\n",
      "with PdfPages('Break_barplot.pdf') as pdf:\n",
      "    dataSeries = []\n",
      "    for f in test_files:\n",
      "        df = read_csv(f, delim_whitespace=True)\n",
      "        df = df.drop(\"id\", axis = 1)\n",
      "    \n",
      "        data = []\n",
      "        df.loc[0]['Degrees']\n",
      "        for index in df.index.values.tolist():\n",
      "            pos = 0\n",
      "            while pos < df.loc[index]['Count']:\n",
      "                data.append(df.loc[index]['Degrees'])\n",
      "                pos = pos + 1\n",
      "        df = DataFrame(data)\n",
      "        df.columns = ['Motor ' + str(test_files.index(f) + 1)]\n",
      "        dataSeries.append(df)\n",
      "\n",
      "    datas = concat(dataSeries, axis=1)\n",
      "    datas.mean().plot(kind='bar', yerr=datas.std())\n",
      "    \n",
      "    plt.tight_layout()\n",
      "    pdf.savefig()\n",
      "    plt.close()"
     ],
     "language": "python",
     "metadata": {},
     "outputs": [],
     "prompt_number": 122
    },
    {
     "cell_type": "code",
     "collapsed": false,
     "input": [],
     "language": "python",
     "metadata": {},
     "outputs": []
    }
   ],
   "metadata": {}
  }
 ]
}